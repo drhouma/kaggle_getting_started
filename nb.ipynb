{
 "cells": [
  {
   "cell_type": "markdown",
   "metadata": {},
   "source": [
    "# Title"
   ]
  },
  {
   "cell_type": "markdown",
   "metadata": {},
   "source": [
    "## read data"
   ]
  },
  {
   "cell_type": "code",
   "execution_count": 234,
   "metadata": {},
   "outputs": [],
   "source": [
    "import pandas as pd\n",
    "from sklearn.model_selection import GridSearchCV\n",
    "from sklearn.metrics import accuracy_score\n",
    "from sklearn.model_selection import train_test_split\n",
    "from sklearn.tree import DecisionTreeRegressor\n",
    "from sklearn.ensemble import RandomForestRegressor\n",
    "\n",
    "\n",
    "target_col = 'SalePrice'\n",
    "data_folder = \"./data/\"\n",
    "# dropping exterior cols bc there is unexpexted value in them, maybe later \n",
    "# will do something with them\n",
    "# electrical have nan that i cant replace or delete for some reason wtf\n",
    "drop_cols = ['Exterior1st', 'Exterior2nd', 'Id', 'Electrical']\n",
    "df_test = pd.read_csv(data_folder + 'test.csv').drop(columns=drop_cols, axis =1)\n",
    "df = pd.read_csv(data_folder + 'train.csv').drop(columns=drop_cols, axis =1)\n"
   ]
  },
  {
   "cell_type": "markdown",
   "metadata": {},
   "source": [
    "# replacing null values"
   ]
  },
  {
   "cell_type": "code",
   "execution_count": 235,
   "metadata": {},
   "outputs": [
    {
     "name": "stdout",
     "output_type": "stream",
     "text": [
      "Index(['MSSubClass', 'LotFrontage', 'LotArea', 'OverallQual', 'OverallCond',\n",
      "       'YearBuilt', 'YearRemodAdd', 'MasVnrArea', 'BsmtFinSF1', 'BsmtFinSF2',\n",
      "       'BsmtUnfSF', 'TotalBsmtSF', '1stFlrSF', '2ndFlrSF', 'LowQualFinSF',\n",
      "       'GrLivArea', 'BsmtFullBath', 'BsmtHalfBath', 'FullBath', 'HalfBath',\n",
      "       'BedroomAbvGr', 'KitchenAbvGr', 'TotRmsAbvGrd', 'Fireplaces',\n",
      "       'GarageYrBlt', 'GarageCars', 'GarageArea', 'WoodDeckSF', 'OpenPorchSF',\n",
      "       'EnclosedPorch', '3SsnPorch', 'ScreenPorch', 'PoolArea', 'MiscVal',\n",
      "       'MoSold', 'YrSold', 'SalePrice'],\n",
      "      dtype='object')\n"
     ]
    }
   ],
   "source": [
    "import numpy as np\n",
    "# df['Electrical'] = df['Electrical'].replace(np.nan, pd.NA).dropna()\n",
    "not_numeric_cols =df.select_dtypes(exclude = ['number']).columns\n",
    "na_value_cols = ['Alley', 'BsmtQual', 'BsmtCond', 'BsmtExposure', 'BsmtFinType1', \n",
    "                 'BsmtFinType2', 'FireplaceQu', 'GarageType', 'GarageFinish', \n",
    "                 'GarageQual', 'GarageCond', 'PoolQC', 'Fence', 'MiscFeature']\n",
    "df[na_value_cols] = df[na_value_cols].fillna('NA')\n",
    "df[not_numeric_cols].isnull().any()\n",
    "df['MasVnrType'] = df['MasVnrType'].fillna('NA')\n",
    "numeric_cols = df.select_dtypes(include = ['number']).columns\n",
    "# for col in df[numeric_cols].columns:\n",
    "# \tprint(\"{0} var: {1}\".format(col, df[col].var(ddof=1)))\n",
    "for col in numeric_cols:\n",
    "    df[col] = df[col].fillna(df[col].mean(skipna=True))\n",
    "print(numeric_cols)"
   ]
  },
  {
   "cell_type": "code",
   "execution_count": 236,
   "metadata": {},
   "outputs": [
    {
     "name": "stdout",
     "output_type": "stream",
     "text": [
      "Empty DataFrame\n",
      "Columns: []\n",
      "Index: [0, 1, 2, 3, 4, 5, 6, 7, 8, 9, 10, 11, 12, 13, 14, 15, 16, 17, 18, 19, 20, 21, 22, 23, 24, 25, 26, 27, 28, 29, 30, 31, 32, 33, 34, 35, 36, 37, 38, 39, 40, 41, 42, 43, 44, 45, 46, 47, 48, 49, 50, 51, 52, 53, 54, 55, 56, 57, 58, 59, 60, 61, 62, 63, 64, 65, 66, 67, 68, 69, 70, 71, 72, 73, 74, 75, 76, 77, 78, 79, 80, 81, 82, 83, 84, 85, 86, 87, 88, 89, 90, 91, 92, 93, 94, 95, 96, 97, 98, 99, ...]\n",
      "\n",
      "[1460 rows x 0 columns]\n"
     ]
    }
   ],
   "source": [
    "print(df.loc[:, df.isna().any()])"
   ]
  },
  {
   "cell_type": "markdown",
   "metadata": {},
   "source": [
    "## encode_data"
   ]
  },
  {
   "cell_type": "markdown",
   "metadata": {},
   "source": [
    "## analise features"
   ]
  },
  {
   "cell_type": "code",
   "execution_count": 71,
   "metadata": {},
   "outputs": [
    {
     "name": "stdout",
     "output_type": "stream",
     "text": [
      "MSSubClass\n",
      "OverallQual\n",
      "OverallCond\n",
      "LowQualFinSF\n",
      "BsmtFullBath\n",
      "BsmtHalfBath\n",
      "FullBath\n",
      "HalfBath\n",
      "BedroomAbvGr\n",
      "KitchenAbvGr\n",
      "TotRmsAbvGrd\n",
      "Fireplaces\n",
      "GarageCars\n",
      "3SsnPorch\n",
      "PoolArea\n",
      "MiscVal\n",
      "MoSold\n",
      "YrSold\n",
      "[ 7  6  8  5  9  4 10  3  1  2]\n"
     ]
    }
   ],
   "source": [
    "# check if dataset have unclear categorial types\n",
    "categorial_cols = []\n",
    "for col in df.columns:\n",
    "    if df[col].unique().__len__() < 30:\n",
    "        categorial_cols.append(col)\n",
    "        \n",
    "# print(categorial_cols)\n",
    "not_numeric_types = df.select_dtypes(exclude = ['float64', 'int64']).columns\n",
    "for elem in categorial_cols:\n",
    "    if elem not in not_numeric_types:\n",
    "        print(elem)\n",
    "print(df['OverallQual'].unique())\n"
   ]
  },
  {
   "cell_type": "code",
   "execution_count": null,
   "metadata": {},
   "outputs": [],
   "source": [
    "from matplotlib import pyplot as plt\n",
    "\n",
    "plt.hist(df['MSSubClass'])"
   ]
  },
  {
   "cell_type": "code",
   "execution_count": 45,
   "metadata": {},
   "outputs": [
    {
     "name": "stdout",
     "output_type": "stream",
     "text": [
      "['MSSubClass', 'OverallQual', 'OverallCond', 'BsmtFullBath', 'BsmtHalfBath', 'FullBath', 'HalfBath', 'BedroomAbvGr', 'KitchenAbvGr', 'TotRmsAbvGrd', 'Fireplaces', 'GarageCars', 'PoolArea', 'MoSold', 'YrSold']\n"
     ]
    }
   ],
   "source": [
    "# check if there categorical features listed as numeric \n",
    "\n",
    "categorial_cols = []\n",
    "for col in df.columns:\n",
    "    if df[col].unique().__len__() < 20:\n",
    "        categorial_cols.append(col)\n",
    "not_numeric_types = df.select_dtypes(exclude = ['float64', 'int64']).columns\n",
    "arr = [elem for elem in categorial_cols if elem not in not_numeric_types]\n",
    "print(arr)"
   ]
  },
  {
   "cell_type": "markdown",
   "metadata": {},
   "source": [
    "## actual encoding\n"
   ]
  },
  {
   "cell_type": "code",
   "execution_count": 237,
   "metadata": {},
   "outputs": [],
   "source": [
    "import json\n",
    "from category_encoders import BinaryEncoder\n",
    "from sklearn.preprocessing import LabelEncoder\n",
    "from sklearn.preprocessing import OneHotEncoder\n",
    "\n",
    "json_place = './data/data_description.json'\n",
    "with open(json_place) as f:\n",
    "    descr = json.load(f)\n",
    "\n",
    "not_numeric_types = df.select_dtypes(exclude = ['float64', 'int64']).columns\n",
    "# not_numeric_types.append('MSSubClass')\n",
    "encoded = df\n",
    "ohe_cols = []\n",
    "ohe_cg = []\n",
    "for col in not_numeric_types:\n",
    "    categories = list(descr[col].keys())\n",
    "    if col == 'MSZoning':\n",
    "        target_index = categories.index(\"C\")\n",
    "        categories[target_index] = \"C \"\n",
    "    \n",
    "\n",
    "    # print(col)\n",
    "    # print(categories)\n",
    "    \n",
    "    if categories.__len__() > 7:\n",
    "        le = LabelEncoder()\n",
    "        le.fit(categories)\n",
    "        encoded[col] = le.transform(encoded[col])\n",
    "    else:\n",
    "        ohe_cols.append(col)\n",
    "        ohe_cg.append(categories)\n",
    "\n",
    "encoder = OneHotEncoder(categories = ohe_cg, handle_unknown='ignore',sparse_output=False)\n",
    "ohe_encoded = encoder.fit_transform(df[ohe_cols])\n",
    "ohe_encoded_df = pd.DataFrame(ohe_encoded, columns=encoder.get_feature_names_out())\n",
    "encoded_df = pd.concat([encoded.drop(columns=ohe_cols, axis=1), ohe_encoded_df], axis=1)\n",
    "\n"
   ]
  },
  {
   "cell_type": "markdown",
   "metadata": {},
   "source": [
    "# analise data"
   ]
  },
  {
   "cell_type": "markdown",
   "metadata": {},
   "source": [
    "## удалить выбросы\n"
   ]
  },
  {
   "cell_type": "code",
   "execution_count": 242,
   "metadata": {},
   "outputs": [],
   "source": [
    "from scipy import stats\n",
    "import numpy as np\n",
    "\n",
    "# numeric_cols.drop(labels='SalePrice')\n",
    "df_zscore = stats.zscore(encoded_df[numeric_cols])\n",
    "encoded_df['z_score'] = df_zscore.max(axis=1)\n",
    "# print(encoded_df['z_score'])\n",
    "# print(df_zscore)\n",
    "encoded_df[encoded_df['z_score'] < 7].shape\n",
    "df_clear_z = encoded_df[encoded_df['z_score'] < 5].drop(columns=['z_score'], axis=1)\n"
   ]
  },
  {
   "cell_type": "markdown",
   "metadata": {},
   "source": [
    "## Графики feature - target"
   ]
  },
  {
   "cell_type": "code",
   "execution_count": null,
   "metadata": {},
   "outputs": [],
   "source": [
    "from matplotlib import pyplot as plt\n",
    "print(numeric_cols)\n",
    "feature = 'LotArea'\n",
    "# df_clear_z = encoded_df[encoded_df['z_score'] < 5]\n",
    "Y = df_clear_z[target_col]\n",
    "X = df_clear_z[feature]\n",
    "\n",
    "plt.scatter(X, Y)\n",
    "plt.xlabel(feature)\n",
    "plt.ylabel(target_col)"
   ]
  },
  {
   "cell_type": "code",
   "execution_count": null,
   "metadata": {},
   "outputs": [],
   "source": [
    "# Определяем количество признаков\n",
    "features = numeric_cols  # Все колонки, кроме последней (target)\n",
    "num_features = len(numeric_cols)\n",
    "\n",
    "# Создаем подграфики\n",
    "fig, axes = plt.subplots(nrows=num_features, ncols=1, figsize=(8, 4 * num_features))\n",
    "\n",
    "# Строим графики\n",
    "for i, feature in enumerate(features):\n",
    "    axes[i].scatter(df[feature], df[target_col], color='blue')\n",
    "    axes[i].set_title(f'{feature} vs Target')\n",
    "    axes[i].set_xlabel(feature)\n",
    "    axes[i].set_ylabel('Target')\n",
    "\n",
    "# Автоматическая настройка макета\n",
    "plt.tight_layout()\n",
    "plt.show()"
   ]
  },
  {
   "cell_type": "markdown",
   "metadata": {},
   "source": [
    "## train test model"
   ]
  },
  {
   "cell_type": "code",
   "execution_count": 37,
   "metadata": {},
   "outputs": [
    {
     "name": "stdout",
     "output_type": "stream",
     "text": [
      "mse = 17759.88623287671\n",
      "0       208500\n",
      "1       181500\n",
      "2       223500\n",
      "3       140000\n",
      "4       250000\n",
      "         ...  \n",
      "1455    175000\n",
      "1456    210000\n",
      "1457    266500\n",
      "1458    142125\n",
      "1459    147500\n",
      "Name: SalePrice, Length: 1460, dtype: int64\n",
      "0.09816365708545488\n"
     ]
    }
   ],
   "source": [
    "from sklearn import metrics\n",
    "model = RandomForestRegressor(criterion='friedman_mse', random_state=42, n_estimators=100)\n",
    "model.fit(X_train_clf, Y_train_clf)\n",
    "\n",
    "y_pred = model.predict(X_test_clf)\n",
    "mse = metrics.mean_absolute_error(y_true=Y_test_clf, y_pred=y_pred)\n",
    "print(\"mse = {0}\".format(mse))\n",
    "print(df[target_col])\n",
    "print(mse / df[target_col].mean() )"
   ]
  }
 ],
 "metadata": {
  "kernelspec": {
   "display_name": "venv",
   "language": "python",
   "name": "python3"
  },
  "language_info": {
   "codemirror_mode": {
    "name": "ipython",
    "version": 3
   },
   "file_extension": ".py",
   "mimetype": "text/x-python",
   "name": "python",
   "nbconvert_exporter": "python",
   "pygments_lexer": "ipython3",
   "version": "3.9.10"
  }
 },
 "nbformat": 4,
 "nbformat_minor": 2
}
